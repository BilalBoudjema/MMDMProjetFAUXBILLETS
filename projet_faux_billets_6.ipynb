{
  "cells": [
    {
      "cell_type": "markdown",
      "metadata": {
        "id": "bqU32KsVP1eD"
      },
      "source": [
        "Importation des bibliothéques"
      ]
    },
    {
      "cell_type": "code",
      "execution_count": 1,
      "metadata": {
        "id": "uN6oGI9kP6Ht"
      },
      "outputs": [],
      "source": [
        "import numpy as np\n",
        "import matplotlib.pyplot as plt\n",
        "import seaborn as sns"
      ]
    },
    {
      "cell_type": "markdown",
      "metadata": {
        "id": "Fv3DxnksP-OJ"
      },
      "source": [
        "## PARTIE 1"
      ]
    },
    {
      "cell_type": "markdown",
      "metadata": {
        "id": "z7SMJyB3QG6p"
      },
      "source": [
        "Importation des données"
      ]
    },
    {
      "cell_type": "code",
      "execution_count": 2,
      "metadata": {
        "colab": {
          "base_uri": "https://localhost:8080/"
        },
        "id": "YRhtE3z4QKQ2",
        "outputId": "a8f456e6-c9e6-48b8-afc5-c0a16a4eaf94"
      },
      "outputs": [
        {
          "data": {
            "text/plain": [
              "(1372, 5)"
            ]
          },
          "execution_count": 2,
          "metadata": {},
          "output_type": "execute_result"
        }
      ],
      "source": [
        "data_initiale = np.loadtxt('Data/bank_auth.txt', delimiter=',')\n",
        "data_initiale = np.array(data_initiale)\n",
        "data_initiale.shape"
      ]
    },
    {
      "cell_type": "markdown",
      "metadata": {
        "id": "f9CFH8skQTpC"
      },
      "source": [
        "**Question 1**: Sauvegardez cet ensemble de données dans deux variables : bank data pour les données et bank labels pour les étiquettes."
      ]
    },
    {
      "cell_type": "code",
      "execution_count": 3,
      "metadata": {
        "colab": {
          "base_uri": "https://localhost:8080/"
        },
        "id": "SR8wC-mCQTFD",
        "outputId": "a1087f21-1d8a-49a3-d95a-4432937dd5e6"
      },
      "outputs": [
        {
          "data": {
            "text/plain": [
              "array([[  3.6216 ,   8.6661 ,  -2.8073 ,  -0.44699],\n",
              "       [  4.5459 ,   8.1674 ,  -2.4586 ,  -1.4621 ],\n",
              "       [  3.866  ,  -2.6383 ,   1.9242 ,   0.10645],\n",
              "       ...,\n",
              "       [ -3.7503 , -13.4586 ,  17.5932 ,  -2.7771 ],\n",
              "       [ -3.5637 ,  -8.3827 ,  12.393  ,  -1.2823 ],\n",
              "       [ -2.5419 ,  -0.65804,   2.6842 ,   1.1952 ]])"
            ]
          },
          "execution_count": 3,
          "metadata": {},
          "output_type": "execute_result"
        }
      ],
      "source": [
        "bank_data = data_initiale[:, :-1]\n",
        "bank_data"
      ]
    },
    {
      "cell_type": "code",
      "execution_count": 4,
      "metadata": {
        "colab": {
          "base_uri": "https://localhost:8080/"
        },
        "id": "x3lV00nHQb1B",
        "outputId": "5b63b2c0-3e8a-424a-e57a-7b1d6d779241"
      },
      "outputs": [
        {
          "data": {
            "text/plain": [
              "array([0., 0., 0., ..., 1., 1., 1.])"
            ]
          },
          "execution_count": 4,
          "metadata": {},
          "output_type": "execute_result"
        }
      ],
      "source": [
        "bank_labels = data_initiale[:, 4]\n",
        "bank_labels"
      ]
    },
    {
      "cell_type": "markdown",
      "metadata": {
        "id": "ek0C95CMQg3q"
      },
      "source": [
        "**Question 2**: Créez deux matrices A faux (que des faux billets) et A vrais (que des vrais billets)."
      ]
    },
    {
      "cell_type": "code",
      "execution_count": 5,
      "metadata": {
        "colab": {
          "base_uri": "https://localhost:8080/"
        },
        "id": "aCe_s0ujQeB8",
        "outputId": "fbc1973c-b620-4a23-a406-ccd40169e4cb"
      },
      "outputs": [
        {
          "data": {
            "text/plain": [
              "(762, 4)"
            ]
          },
          "execution_count": 5,
          "metadata": {},
          "output_type": "execute_result"
        }
      ],
      "source": [
        "# Construction de la matrice A_faux\n",
        "list_bool_faux = bank_labels == 0\n",
        "A_faux = bank_data[list_bool_faux]\n",
        "A_faux.shape"
      ]
    },
    {
      "cell_type": "code",
      "execution_count": 6,
      "metadata": {
        "colab": {
          "base_uri": "https://localhost:8080/"
        },
        "id": "5EwRwW10QpiG",
        "outputId": "cc35c2c5-0bb1-42ee-8a05-8bf0b8e3fa9c"
      },
      "outputs": [
        {
          "data": {
            "text/plain": [
              "(610, 4)"
            ]
          },
          "execution_count": 6,
          "metadata": {},
          "output_type": "execute_result"
        }
      ],
      "source": [
        "# Construction de la matrice A_vrai\n",
        "list_bool_vrai = bank_labels == 1\n",
        "A_vrai = bank_data[list_bool_vrai]\n",
        "A_vrai.shape"
      ]
    },
    {
      "cell_type": "markdown",
      "metadata": {
        "id": "BL_RYSFiQwRZ"
      },
      "source": [
        "**Question 3**: Ensuite, créez deux matrices bank train (500 objets de A_vrai et 600 objets de A_faux) et bank test (le reste)."
      ]
    },
    {
      "cell_type": "code",
      "execution_count": 7,
      "metadata": {
        "colab": {
          "base_uri": "https://localhost:8080/"
        },
        "id": "064T_D2hQsCX",
        "outputId": "bb4f3c77-a134-476c-f3f5-0bce08889bc2"
      },
      "outputs": [
        {
          "data": {
            "text/plain": [
              "(1100, 4)"
            ]
          },
          "execution_count": 7,
          "metadata": {},
          "output_type": "execute_result"
        }
      ],
      "source": [
        "# Création de 500 objet de A_vrai, et 600 objet de A_faux\n",
        "A_vrai_500 = A_vrai[:500, :]\n",
        "A_faux_600 = A_faux[:600, :]\n",
        "bank_train = np.concatenate( (A_vrai_500, A_faux_600) )\n",
        "bank_train.shape"
      ]
    },
    {
      "cell_type": "code",
      "execution_count": 8,
      "metadata": {
        "colab": {
          "base_uri": "https://localhost:8080/"
        },
        "id": "pNiALivvQ01e",
        "outputId": "fa1c006c-0d8b-4834-8fe2-730db994acb9"
      },
      "outputs": [
        {
          "data": {
            "text/plain": [
              "(1100, 1)"
            ]
          },
          "execution_count": 8,
          "metadata": {},
          "output_type": "execute_result"
        }
      ],
      "source": [
        "# Création d'une matrice labels pour la matrice bank_train\n",
        "ones_500 = np.ones( (500, 1) )\n",
        "zeros_600 = np.zeros( (600, 1) )\n",
        "bank_train_labels = np.concatenate( (ones_500, zeros_600) )\n",
        "bank_train_labels.shape"
      ]
    },
    {
      "cell_type": "code",
      "execution_count": 9,
      "metadata": {
        "colab": {
          "base_uri": "https://localhost:8080/"
        },
        "id": "mgMaLma5Q2oh",
        "outputId": "0dfddc95-da78-462d-d1a2-774426e229d3"
      },
      "outputs": [
        {
          "data": {
            "text/plain": [
              "(272, 4)"
            ]
          },
          "execution_count": 9,
          "metadata": {},
          "output_type": "execute_result"
        }
      ],
      "source": [
        "# Création de bank_test qui contient le reste des objet de A_vrai aprés les 500 objet et le reste de A_faux aprés les 600 objets\n",
        "A_vrai_reste = A_vrai[500: , :]\n",
        "A_faux_reste = A_faux[600: , :]\n",
        "bank_test = np.concatenate( (A_vrai_reste, A_faux_reste) )\n",
        "bank_test.shape"
      ]
    },
    {
      "cell_type": "code",
      "execution_count": 10,
      "metadata": {
        "colab": {
          "base_uri": "https://localhost:8080/"
        },
        "id": "lTMTVBCrQ4m7",
        "outputId": "30db4bbd-5b11-4640-fdb7-201f66764692"
      },
      "outputs": [
        {
          "data": {
            "text/plain": [
              "(272, 1)"
            ]
          },
          "execution_count": 10,
          "metadata": {},
          "output_type": "execute_result"
        }
      ],
      "source": [
        "# Création d'une matrice labels pour la matrice bank_test\n",
        "nbr_A_vrai_reste = A_vrai_reste.shape[0]\n",
        "nbr_A_faux_reste = A_faux_reste.shape[0]\n",
        "ones_reste = np.ones( (nbr_A_vrai_reste, 1) )\n",
        "zeros_reste = np.zeros( (nbr_A_faux_reste, 1) )\n",
        "bank_test_labels = np.concatenate( (ones_reste, zeros_reste) )\n",
        "bank_test_labels.shape"
      ]
    },
    {
      "cell_type": "markdown",
      "metadata": {
        "id": "RdXeCIpqQ9Bq"
      },
      "source": [
        "**Question 4**: Visualisez les données dans une figure séparée en utilisant la fonction PlotClusters"
      ]
    },
    {
      "cell_type": "code",
      "execution_count": 11,
      "metadata": {
        "id": "meL4oijrQ6jR"
      },
      "outputs": [],
      "source": [
        "from sklearn.decomposition import PCA\n",
        "\n",
        "PCA_object = PCA(n_components = 2)\n",
        "PCA_object.fit(bank_data)\n",
        "bank_data_pca = PCA_object.transform(bank_data)"
      ]
    },
    {
      "cell_type": "code",
      "execution_count": 12,
      "metadata": {
        "colab": {
          "base_uri": "https://localhost:8080/",
          "height": 265
        },
        "id": "7yHxxs5nREX1",
        "outputId": "904d7c65-a92b-4fe4-fec8-136360ff9545"
      },
      "outputs": [
        {
          "data": {
            "image/png": "[encoded data removed]",
            "text/plain": [
              "<Figure size 432x288 with 1 Axes>"
            ]
          },
          "metadata": {
            "needs_background": "light"
          },
          "output_type": "display_data"
        }
      ],
      "source": [
        "plt.scatter(bank_data_pca[:, 0], bank_data_pca[:, 1], s=10, c = bank_labels)\n",
        "plt.show()"
      ]
    },
    {
      "cell_type": "markdown",
      "metadata": {
        "id": "--FQXElQRKZy"
      },
      "source": [
        "## Partie 2"
      ]
    },
    {
      "cell_type": "markdown",
      "metadata": {
        "id": "6omj6m7WRY5q"
      },
      "source": [
        "**Question 1**: Appliquez la Semi-NMF à la matrice bank_train en utilisant la fonction seminmfnnls. Sauvegardez la matrice de prototypes obtenue dans W_train."
      ]
    },
    {
      "cell_type": "code",
      "execution_count": 13,
      "metadata": {
        "id": "NuBajB0URGrn"
      },
      "outputs": [],
      "source": [
        "import pymf as PYMF\n",
        "\n",
        "semiNMF = PYMF.SNMF(bank_train.T, num_base = 2)\n",
        "semiNMF.factorize()\n",
        "\n",
        "W_train = semiNMF.W\n",
        "H_train = semiNMF.H"
      ]
    },
    {
      "cell_type": "markdown",
      "metadata": {
        "id": "KKEvPxMNYrV6"
      },
      "source": [
        "**Question 2**: Ecrivez un programme show clusters pour transformer la matrice de partition obtenue à une vraie matrice de partition I (On\n",
        "cherche un élément maximal dans chaque ligne et on le remplace\n",
        "par 1. Tous les autres éléments sont remplacées par 0.). Calculez\n",
        "la puretée pour la matrice de partition obtenue précédemment.\n"
      ]
    },
    {
      "cell_type": "code",
      "execution_count": 14,
      "metadata": {
        "id": "qWt12homRfOc"
      },
      "outputs": [],
      "source": [
        "# La procédure shwo_clusters() qui permet de transformer la matrice de partition (H_train) à une matrice de 0 et 1\n",
        "def show_clusters(X):\n",
        "    # La variable leX contient lenombre de ligne et de colonne de x\n",
        "    lenX = np.shape(X)\n",
        "      \n",
        "    for i in range(0, lenX[0]):\n",
        "        # maxX contient le maximum de chaque ligne i de la matrice x\n",
        "        maxX = np.max(X[i])\n",
        "        for j in range(0, lenX[1]):\n",
        "            if X[i][j] == maxX:\n",
        "                # S i l'élément (i, j) de la matrice x égale à p (le maximum de la ligne i) donc ce élément recoit 1\n",
        "                X[i][j] = 1\n",
        "            else :\n",
        "                # Sinon, l'élément (i, j) de la matrice x recoit 0\n",
        "                X[i][j] = 0\n",
        "    return(X)"
      ]
    },
    {
      "cell_type": "code",
      "execution_count": 15,
      "metadata": {
        "colab": {
          "base_uri": "https://localhost:8080/"
        },
        "id": "zr9H_UxYRp3K",
        "outputId": "06d1e00a-5cef-43b3-d33e-c0b127d3f8fa"
      },
      "outputs": [
        {
          "data": {
            "text/plain": [
              "array([[0., 0., 0., ..., 0., 0., 0.],\n",
              "       [0., 0., 0., ..., 0., 0., 0.],\n",
              "       [0., 0., 0., ..., 0., 0., 0.],\n",
              "       [0., 0., 0., ..., 0., 0., 0.]])"
            ]
          },
          "execution_count": 15,
          "metadata": {},
          "output_type": "execute_result"
        }
      ],
      "source": [
        "# Application de la procédure show_clusters() sur la matrice de partition (H_train)\n",
        "show_clusters(H_train)\n",
        "H_train"
      ]
    },
    {
      "cell_type": "code",
      "execution_count": 16,
      "metadata": {
        "colab": {
          "base_uri": "https://localhost:8080/"
        },
        "id": "ddwI-MbiayKn",
        "outputId": "f7e2dfbe-d87d-499e-ab39-476df75b8ba4"
      },
      "outputs": [
        {
          "data": {
            "text/plain": [
              "0.5445454545454546"
            ]
          },
          "execution_count": 16,
          "metadata": {},
          "output_type": "execute_result"
        }
      ],
      "source": [
        "# Calcule de La pureté de la vrai matrice de partition I_partition\n",
        "from sklearn import metrics\n",
        "purete_I_partition = metrics.accuracy_score(H_train[1, :], bank_train_labels)\n",
        "purete_I_partition"
      ]
    },
    {
      "cell_type": "markdown",
      "metadata": {
        "id": "S8cvghcFfSd7"
      },
      "source": [
        "**Question 3**: Classifiez les objets sauvegardés dans bank_test en utilisant la matrice de prototypes W_train apprise pécédemment *(H_test=W train−1∗bank test)*. \n",
        "Attention! Au cas ou la matrice W_train est une matrice non carrée, on utilise le pseudo-inverse de Moore-Penrose (la commande pinv)."
      ]
    },
    {
      "cell_type": "code",
      "execution_count": 17,
      "metadata": {
        "colab": {
          "base_uri": "https://localhost:8080/"
        },
        "id": "PIypiTvseRHv",
        "outputId": "804e10ed-05a3-4f96-dbd2-b2ad69f6c725"
      },
      "outputs": [
        {
          "data": {
            "text/plain": [
              "array([[-0.22337648, -0.04780944,  0.61784472, ...,  1.04103377,\n",
              "         0.42686882,  0.38205484],\n",
              "       [ 0.03546746, -0.02012518,  1.36358805, ...,  1.22280428,\n",
              "         0.01680645,  0.31428155],\n",
              "       [-0.19738228,  0.90298182,  1.83056472, ...,  1.23736244,\n",
              "        -0.12360935,  0.09936605],\n",
              "       [-0.02604055, -0.29894711,  0.28598537, ...,  1.20940117,\n",
              "         0.47380917,  0.70034993]])"
            ]
          },
          "execution_count": 17,
          "metadata": {},
          "output_type": "execute_result"
        }
      ],
      "source": [
        "H_test = np.dot(np.linalg.pinv(W_train), bank_test.T)\n",
        "H_test"
      ]
    },
    {
      "cell_type": "code",
      "execution_count": 18,
      "metadata": {
        "colab": {
          "base_uri": "https://localhost:8080/"
        },
        "id": "eG3buDXegZT0",
        "outputId": "1e9755b3-0dd6-4977-98c7-318852d0619c"
      },
      "outputs": [
        {
          "data": {
            "text/plain": [
              "array([1., 0., 0., 0., 1., 0., 0., 0., 1., 0., 0., 1., 0., 0., 0., 0., 0.,\n",
              "       0., 1., 1., 0., 0., 0., 0., 0., 1., 1., 0., 0., 0., 0., 0., 1., 1.,\n",
              "       1., 0., 0., 0., 0., 0., 1., 0., 1., 1., 0., 1., 0., 0., 1., 0., 0.,\n",
              "       0., 0., 0., 1., 0., 0., 0., 0., 0., 0., 0., 0., 0., 0., 0., 0., 0.,\n",
              "       0., 0., 0., 0., 1., 0., 0., 0., 0., 0., 0., 1., 0., 0., 0., 0., 0.,\n",
              "       0., 1., 1., 0., 0., 0., 0., 0., 1., 1., 1., 0., 0., 0., 0., 0., 1.,\n",
              "       0., 1., 1., 0., 0., 0., 0., 1., 0., 0., 0., 0., 0., 0., 0., 0., 0.,\n",
              "       0., 1., 0., 0., 0., 0., 0., 0., 0., 0., 0., 0., 0., 0., 0., 0., 0.,\n",
              "       0., 0., 0., 0., 0., 0., 0., 0., 0., 0., 0., 0., 0., 0., 0., 0., 0.,\n",
              "       0., 0., 0., 0., 0., 0., 0., 0., 0., 0., 0., 0., 0., 0., 0., 0., 0.,\n",
              "       0., 0., 0., 0., 0., 0., 0., 0., 0., 0., 0., 0., 0., 1., 0., 0., 0.,\n",
              "       0., 0., 0., 0., 0., 0., 0., 1., 0., 0., 0., 0., 0., 0., 0., 0., 0.,\n",
              "       0., 0., 0., 0., 0., 0., 0., 0., 0., 0., 0., 0., 0., 0., 0., 0., 0.,\n",
              "       0., 0., 0., 0., 0., 0., 0., 0., 0., 0., 0., 0., 0., 0., 0., 0., 0.,\n",
              "       0., 0., 0., 0., 1., 0., 0., 0., 1., 0., 0., 0., 0., 0., 0., 0., 0.,\n",
              "       0., 0., 0., 0., 0., 0., 0., 0., 0., 0., 0., 0., 0., 0., 0., 0., 0.])"
            ]
          },
          "execution_count": 18,
          "metadata": {},
          "output_type": "execute_result"
        }
      ],
      "source": [
        "H_labels = show_clusters(H_test.T)\n",
        "H_labels = H_labels[:, 1]\n",
        "H_labels"
      ]
    },
    {
      "cell_type": "markdown",
      "metadata": {
        "id": "69lkrP8ug-tq"
      },
      "source": [
        "**Question 4**: Calculez les indices externes (la pureté et l’entropie pour la matrice de partition H_test). Pour cela, on utilise les commande purity et entropy.\n"
      ]
    },
    {
      "cell_type": "code",
      "execution_count": 19,
      "metadata": {
        "colab": {
          "base_uri": "https://localhost:8080/"
        },
        "id": "x6lz69zogy4T",
        "outputId": "b1340c4a-400f-4c9e-b64f-39ebb27fd81a"
      },
      "outputs": [
        {
          "name": "stdout",
          "output_type": "stream",
          "text": [
            "La pureté est : 0.6801470588235294\n",
            "L'entropie est : 0.36955376320767064\n"
          ]
        }
      ],
      "source": [
        "# Calcule de pureté\n",
        "purete_H_test = metrics.accuracy_score(H_labels,bank_test_labels)\n",
        "print(\"La pureté est :\", purete_H_test)\n",
        "\n",
        "# Calcule de l'entropy\n",
        "entropy_H_test = metrics.cluster.entropy(H_labels)\n",
        "print(\"L'entropie est :\", entropy_H_test)"
      ]
    },
    {
      "cell_type": "markdown",
      "metadata": {
        "id": "AsgkvQy_iPGu"
      },
      "source": [
        "**Question 5**: Calculez les indices internes (l’indice DB de Davies et Bouldin, l’indice CH de Calinsky et Harabsz, l’indice KL de Krzanowski et Lai et l’indice de Dunn) pour la matrice de partition H_test. Pour cela, on utilise la commande valid internal deviation."
      ]
    },
    {
      "cell_type": "code",
      "execution_count": 20,
      "metadata": {
        "colab": {
          "base_uri": "https://localhost:8080/"
        },
        "id": "C1GdB3wZhxVm",
        "outputId": "44981cde-fb70-42c5-b1ee-ab38e897fddf"
      },
      "outputs": [
        {
          "name": "stdout",
          "output_type": "stream",
          "text": [
            "L'ndice de Davies et Bouldin : 3.0182012844045314\n",
            "L'ndice de Calinsky et Harabsz : 7.9633970288210465\n"
          ]
        }
      ],
      "source": [
        "davies_bouldin_score_SEMI_NMF  = metrics.cluster.davies_bouldin_score(bank_test,H_labels)\n",
        "print(\"L'ndice de Davies et Bouldin :\", davies_bouldin_score_SEMI_NMF)\n",
        "\n",
        "calinski_harabasz_score_SEMI_NMF = metrics.cluster.calinski_harabasz_score(bank_test,H_labels)\n",
        "print(\"L'ndice de Calinsky et Harabsz :\", calinski_harabasz_score_SEMI_NMF)"
      ]
    },
    {
      "cell_type": "markdown",
      "metadata": {
        "id": "2fKzvVNvAXnY"
      },
      "source": [
        "**Question 6**:  Visualisez les données avec les étiquettes obtenues en utilisant la fonction PlotClusters.\n"
      ]
    },
    {
      "cell_type": "code",
      "execution_count": 21,
      "metadata": {
        "colab": {
          "base_uri": "https://localhost:8080/",
          "height": 282
        },
        "id": "8FDAzT9GjPQJ",
        "outputId": "634aad9e-ecc6-434d-ee20-bb09ec563d3f"
      },
      "outputs": [
        {
          "data": {
            "text/plain": [
              "<matplotlib.collections.PathCollection at 0x7f176ca869d0>"
            ]
          },
          "execution_count": 21,
          "metadata": {},
          "output_type": "execute_result"
        },
        {
          "data": {
            "image/png": "[encoded data removed]",
            "text/plain": [
              "<Figure size 432x288 with 1 Axes>"
            ]
          },
          "metadata": {
            "needs_background": "light"
          },
          "output_type": "display_data"
        }
      ],
      "source": [
        "bank_test_pca = PCA_object.fit_transform(bank_test)\n",
        "# bank_test_pca = PCA_object.transform(bank_test)\n",
        "plt.scatter(bank_test_pca[:,0],bank_test_pca[:,1],s=30, c= H_labels)"
      ]
    },
    {
      "cell_type": "markdown",
      "metadata": {
        "id": "YmWARktQB6X1"
      },
      "source": [
        "## PARTIE 3"
      ]
    },
    {
      "cell_type": "markdown",
      "metadata": {
        "id": "j6lOFOXLxN0I"
      },
      "source": [
        "**Question 1**: Appliquez la NMF à la matrice bank_train en utilisant la fonction nmf. Sauvegardez la matrice de prototypes obtenue dans W_train."
      ]
    },
    {
      "cell_type": "code",
      "execution_count": 22,
      "metadata": {
        "id": "9MPOC4jiknFI"
      },
      "outputs": [],
      "source": [
        "def to_positive(X):\n",
        "    # Le nombre de lignes et de colonnes\n",
        "    lenX = np.shape(X)\n",
        "\n",
        "    # Le minimum de X\n",
        "    minX = np.min(X) \n",
        "     \n",
        "    for i in range(0,lenX[0]):\n",
        "        for j in range(0,lenX[1]):\n",
        "            if minX < 0:\n",
        "                X[i][j]= X[i][j] - minX\n",
        "            else :\n",
        "                X[i][j]= X[i][j] + minX \n",
        "    return(X)"
      ]
    },
    {
      "cell_type": "code",
      "execution_count": 23,
      "metadata": {
        "id": "4-_M9fWyvEz4"
      },
      "outputs": [],
      "source": [
        "NMF = PYMF.NMF(to_positive(bank_train).T, num_bases = 2)\n",
        "NMF.factorize()\n",
        "\n",
        "W_train = NMF.W\n",
        "H_train = NMF.H"
      ]
    },
    {
      "cell_type": "markdown",
      "metadata": {
        "id": "18ptRXlW1SBe"
      },
      "source": [
        "**Question 2**: Ecrivez un programme show clusters pour transformer la matrice de partition obtenue à une vraie matrice de partition I (On cherche un élément maximal dans chaque ligne et on le remplace par 1. Tous les autres éléments sont remplacées par 0.). Calculez la puretée pour la matrice de partition obtenue précédemment."
      ]
    },
    {
      "cell_type": "code",
      "execution_count": 24,
      "metadata": {
        "colab": {
          "base_uri": "https://localhost:8080/"
        },
        "id": "kOnoYp300mhw",
        "outputId": "988d643a-521c-440b-a31b-9fc8938a103f"
      },
      "outputs": [
        {
          "data": {
            "text/plain": [
              "array([[0., 0., 0., ..., 0., 0., 0.],\n",
              "       [0., 0., 0., ..., 0., 0., 0.]])"
            ]
          },
          "execution_count": 24,
          "metadata": {},
          "output_type": "execute_result"
        }
      ],
      "source": [
        "# Le programme showcluster() est déja programmer dans la PARTIE 2  \n",
        "show_clusters(H_train)\n",
        "H_train"
      ]
    },
    {
      "cell_type": "code",
      "execution_count": 25,
      "metadata": {
        "colab": {
          "base_uri": "https://localhost:8080/"
        },
        "id": "4N7LMkF714EE",
        "outputId": "6e8159ea-9386-42b6-a943-0c92623bc4b3"
      },
      "outputs": [
        {
          "data": {
            "text/plain": [
              "0.5445454545454546"
            ]
          },
          "execution_count": 25,
          "metadata": {},
          "output_type": "execute_result"
        }
      ],
      "source": [
        "# Calcule de La pureté de la vrai matrice de partition I_partition\n",
        "from sklearn import metrics\n",
        "purete_I_partition = metrics.accuracy_score(H_train[1, :], bank_train_labels)\n",
        "purete_I_partition"
      ]
    },
    {
      "cell_type": "markdown",
      "metadata": {
        "id": "tDAcl6wH2f4P"
      },
      "source": [
        "**Question 3**: Classifiez les objets sauvegardés dans bank_test en utilisant la matrice de prototypes W_train apprise pécédemment *(H_test=W train−1∗bank test)*. \n",
        "Attention! Au cas ou la matrice W_train est une matrice non carrée, on utilise le pseudo-inverse de Moore-Penrose (la commande pinv)."
      ]
    },
    {
      "cell_type": "code",
      "execution_count": 26,
      "metadata": {
        "colab": {
          "base_uri": "https://localhost:8080/"
        },
        "id": "2yQc42Gn2JDY",
        "outputId": "98568c29-6f42-42bc-8a63-dbb679179707"
      },
      "outputs": [
        {
          "data": {
            "text/plain": [
              "array([[ -0.24314503,  -6.7060127 ,  -7.30429228,  -4.1360103 ,\n",
              "          2.63420834,  11.98661545,  16.47362488,   8.09628799,\n",
              "         -0.26338743,  -8.04772211,  -6.03615611,   1.19827099,\n",
              "          9.40939914,  12.01845904,   4.36396836,  -2.53543106,\n",
              "         -8.3155124 ,  -7.89604261,   1.55287341,   8.14398265,\n",
              "          7.27118947,  -1.34334781,  -7.45982495, -10.01314199,\n",
              "         -8.91398832,  -1.92996542,   1.68784425,   0.62400097,\n",
              "         -4.41548045,  -6.43889363,  -6.62447436,  -4.89001462,\n",
              "         -7.72750384,  -2.15306194,  -0.22245661,  -1.81098993,\n",
              "         -5.02845575,  -4.28290566,  -2.47018933,  -2.75805145,\n",
              "          2.49232529,  11.35436825,  10.82835621,  -3.95090088,\n",
              "         -3.10963667,   7.28518626,  19.766029  ,  13.41469874,\n",
              "          2.38014582,  -3.99499154,   0.62464266,  11.33769136,\n",
              "         19.52005129,  13.75158828,   2.29426054,  -4.74675309,\n",
              "         -4.60401603,   0.06758658,   8.99260978,  13.39825283,\n",
              "          8.73933719,   0.52448329,  -5.97694192,  -6.2426275 ,\n",
              "         -3.25698976,   3.40684891,  13.28466735,  17.54239553,\n",
              "          9.21847359,   0.45965087,  -7.40300651,  -5.20696202,\n",
              "          1.35506491,   9.41707105,  13.31142574,   4.92181965,\n",
              "         -1.9567556 ,  -7.91710092,  -7.22547823,   2.5143853 ,\n",
              "          8.64132841,   7.99266548,  -1.04919914,  -7.10383243,\n",
              "         -9.80638682,  -8.5241213 ,  -1.36975037,   2.80287339,\n",
              "          1.21954926,  -3.7931683 ,  -5.8680218 ,  -6.08041955,\n",
              "         -4.5200691 ,  -7.23687421,  -1.64022511,   0.81264885,\n",
              "         -0.93163857,  -4.26518885,  -3.68575106,  -1.84899591,\n",
              "         -1.88201324,   3.54604707,  12.44954475,  12.08207497,\n",
              "         -3.23888651,  -2.21200911,   8.4135914 ,  21.29257417,\n",
              "         14.59662801,   2.94109828,  -1.20402256,   1.06576718,\n",
              "        -10.28388971,   0.05236592,  -9.20467608,  -6.02387561,\n",
              "         -8.90276507, -10.49360597,  -1.42775432,  -4.86000297,\n",
              "         -4.63689243,  -9.72679227,   5.71029299,   1.78919331,\n",
              "         -2.78120322, -11.15515936,  -4.41134982,  -8.19155878,\n",
              "         -1.53443415,  -3.65740338,   6.20829595,   2.97211135,\n",
              "          2.11524193,  -4.14802787,  -5.811015  ,   4.75153323,\n",
              "         -1.94231257,   4.30036406,   2.13818645,   6.37543962,\n",
              "         -0.21029333,   4.18344268,   7.12791757,   3.9502755 ,\n",
              "         -3.53867112,   3.85876512,  10.87106019,  -4.08128954,\n",
              "         -3.38636283,   4.65355994,   1.29404552,  -1.1254673 ,\n",
              "          1.72014008,  -1.88630889,   4.12958437,  -2.85812993,\n",
              "         -7.92581305,   0.86652932,  -1.86749215,   8.23616494,\n",
              "         -5.5702603 ,   8.59984944,   5.17257334,   8.46206495,\n",
              "          0.34816216,  -9.78886869,  -5.25164089,  -8.19155878,\n",
              "         10.81953302,   0.18938355,   4.49531128,  -2.86887041,\n",
              "         -7.87716863,   4.8203524 ,  -2.07034202,  -1.68212424,\n",
              "          5.12331852,   7.72455843,   1.02533233,   2.78273416,\n",
              "          5.92586251,   4.16751183,   4.63032238,  -5.00329092,\n",
              "         -6.20394049,  -2.80232338,  -4.31448856, -10.86138979,\n",
              "          1.53464787,  -4.70840673,   0.34838287,   7.18050541,\n",
              "          5.72915419,   6.33639903,  -5.42668776,  -5.56120745,\n",
              "         -1.92275303,  -3.94681668,  -3.06341372,   4.3664164 ,\n",
              "         -3.9371126 ,   1.02530298, -10.48135795,  -6.60005908,\n",
              "          2.2306876 ,  -7.8240067 ,  -6.03667194,  -3.73632319,\n",
              "          7.55013059, -10.25433485,  -4.22801465, -10.28454227,\n",
              "          6.82834357,   0.22873915,  -4.61960917,   4.88663215,\n",
              "          1.50051042,   6.3397192 ,  -2.73990109,  -0.96055767,\n",
              "          2.78367047,   9.42603643,  -4.66061361,  -9.91517389,\n",
              "          0.80813048,  -6.75652057,   4.16752607,  -4.47788054,\n",
              "         -3.57535226,   6.52383401,   1.44610617,   7.07229388,\n",
              "         -6.61221559,  -2.64118608,  -7.2321081 ,   4.82456383,\n",
              "         -4.63318684,  -9.20467608,   0.2251567 ,   4.96093694,\n",
              "         -8.87022944,  -5.69530308,  -5.95995006,   4.74836974,\n",
              "          1.33504718,  -3.26379271,  -4.43473492,  -5.754294  ,\n",
              "         -5.89275582,  10.90266684,  -9.44905288,   4.91053667,\n",
              "         -5.69631892,   0.61361521,  -6.23744782,   1.33727242,\n",
              "         -4.96791576,  -3.16763954,   6.10790852,   5.27516736,\n",
              "          7.85367725,  -5.33004387,  -3.77414997,   9.57193759,\n",
              "          5.5007505 ,   0.09681595,  -9.86378171,   0.81927646,\n",
              "          0.29914673,  -4.78200689,   2.21705506,  -0.92201118],\n",
              "       [ -0.19448623,   3.96854785,   3.98425452,   2.37261319,\n",
              "         -2.65196261, -13.14464677, -19.15343448,  -9.77752467,\n",
              "         -0.49593575,   4.97839472,   3.40087035,  -1.88398028,\n",
              "        -10.82993198, -15.02444286,  -5.70825295,   1.93180202,\n",
              "          5.4482788 ,   5.33699594,  -1.6917401 ,  -8.81769207,\n",
              "         -9.19592766,   0.70615636,   5.99110745,   6.38165785,\n",
              "          7.21627271,   1.00062064,  -3.10492237,  -2.77887988,\n",
              "          3.06474974,   5.11398518,   4.14940376,   2.30472207,\n",
              "          6.83667432,   1.21407643,  -1.35777156,  -0.45226379,\n",
              "          3.30921164,   2.58409002,   0.78976175,   0.44517381,\n",
              "         -2.7889579 , -10.93044798, -10.53439327,   2.74517469,\n",
              "          1.7227007 ,  -7.42943357, -20.32753008, -13.5177872 ,\n",
              "         -2.53934181,   3.37540035,  -0.13948541, -10.5417462 ,\n",
              "        -19.09464061, -12.79133912,  -1.36979834,   3.08451767,\n",
              "          3.40737099,   0.27475872,  -9.0922804 , -13.64508576,\n",
              "         -8.73157333,  -0.08338403,   3.98368203,   3.9197555 ,\n",
              "          2.45507258,  -2.5203611 , -13.54750092, -19.28835553,\n",
              "         -9.82681716,  -0.27467391,   4.98185618,   3.59741047,\n",
              "         -1.08841843, -10.18628813, -15.14773969,  -5.22189444,\n",
              "          2.24625226,   5.80298346,   5.58830551,  -1.74892184,\n",
              "         -8.46279092,  -8.90836145,   1.39056384,   6.44725068,\n",
              "          6.79902577,   7.36592871,   1.1724957 ,  -3.32981441,\n",
              "         -2.36054854,   3.48030808,   5.27886244,   4.26947357,\n",
              "          2.24674853,   6.71921711,   1.25179042,  -1.64777824,\n",
              "         -0.32874232,   3.47652021,   2.62048263,   0.67828853,\n",
              "          0.74197059,  -2.75675978, -11.16914569, -11.06099367,\n",
              "          3.08531954,   1.96927751,  -7.55149482, -20.96470881,\n",
              "        -13.91171642,  -2.36677451,   6.83837436,   3.25711161,\n",
              "         13.46543232,   4.22593458,   9.78371204,   9.59130884,\n",
              "         11.50082488,  14.10865407,   5.86690011,   7.71245741,\n",
              "          8.91589301,  12.01599903,  -0.45378872,   2.47219841,\n",
              "          8.2627219 ,  10.34114778,   9.19470397,   9.32796042,\n",
              "          4.14696363,   7.66049881,  -4.40800669,   2.03781871,\n",
              "          1.29371692,   9.53119013,  10.51315235,  -2.21658602,\n",
              "          7.01812378,  -0.10371751,   1.66875943,  -5.50196183,\n",
              "          4.5635901 ,   0.5992251 ,  -3.93006861,  -1.2326527 ,\n",
              "          8.92060136,  -2.80513574,  -8.07072201,   9.17884831,\n",
              "          8.7245992 ,  -2.45009098,   1.07281882,   6.01950434,\n",
              "          1.90929176,   6.82031021,  -2.23950652,   7.53463701,\n",
              "         11.48471574,   3.84219343,   6.28041974,  -3.54187434,\n",
              "         10.0093797 ,  -5.40813081,  -2.51574228,  -5.0080737 ,\n",
              "          4.15413921,  13.07416184,  10.1601755 ,   9.32796042,\n",
              "         -9.4301441 ,   3.34923637,  -1.73454777,   6.94685878,\n",
              "         11.43480368,  -2.82667626,   6.60759161,   7.00633252,\n",
              "         -0.24160872,  -2.80473755,  -0.20115398,   1.8815732 ,\n",
              "         -4.10017293,  -4.21820767,  -2.81623309,   9.7851439 ,\n",
              "         10.47185334,   6.010879  ,   7.70420779,  10.65872371,\n",
              "          1.95760756,   7.61257457,   4.19273379,  -5.07132824,\n",
              "         -3.66193063,  -3.15857593,   9.62793375,  10.19545262,\n",
              "          6.08798024,   7.34766863,   7.0342591 ,  -3.16590516,\n",
              "          8.65172618,  -0.20111172,  14.21506154,  10.70084458,\n",
              "          0.07122899,  11.1054224 ,   9.00167693,   9.01590457,\n",
              "         -4.18935281,  13.27352644,   8.48182583,  14.2349521 ,\n",
              "         -3.55533704,   4.68509656,   9.36880149,  -2.25846741,\n",
              "          2.69929801,  -4.35873917,   6.78254237,   4.81786275,\n",
              "          1.81655037,  -6.5660207 ,   9.80652183,  13.25064959,\n",
              "          3.98014948,  11.27258669,  -4.2181949 ,   8.83420182,\n",
              "          7.85447451,  -1.66021803,   2.36219015,  -3.68809264,\n",
              "         11.22296486,   7.6477705 ,  11.92299442,  -3.45121506,\n",
              "          8.39918232,   9.78371204,   0.65292985,  -2.15402504,\n",
              "         12.440021  ,  10.13188318,  10.26374082,  -2.50891668,\n",
              "          2.81880144,   8.74397271,   8.06105986,   9.95108742,\n",
              "         10.45444273,  -8.52053418,  11.76717901,  -2.70684165,\n",
              "         10.48759823,   3.75810691,  11.42617463,   2.66426898,\n",
              "         10.42115649,   7.33573008,  -1.59643782,  -0.71652729,\n",
              "         -4.40757992,   9.32588269,   7.21491611,  -6.14467882,\n",
              "         -0.13344939,   4.16472874,  13.18301329,   3.83085074,\n",
              "          3.55952148,   8.58165067,   1.34964522,   4.57556001]])"
            ]
          },
          "execution_count": 26,
          "metadata": {},
          "output_type": "execute_result"
        }
      ],
      "source": [
        "H_test = np.dot(np.linalg.pinv(W_train), bank_test.T)\n",
        "H_test"
      ]
    },
    {
      "cell_type": "code",
      "execution_count": 27,
      "metadata": {
        "colab": {
          "base_uri": "https://localhost:8080/"
        },
        "id": "ltUxtAR32rZf",
        "outputId": "d602a165-d15d-4a08-b7cb-fee38548f12d"
      },
      "outputs": [
        {
          "data": {
            "text/plain": [
              "array([0., 0., 0., 0., 1., 1., 1., 1., 1., 0., 0., 1., 1., 1., 1., 0., 0.,\n",
              "       0., 1., 1., 1., 0., 0., 0., 0., 0., 1., 1., 0., 0., 0., 0., 0., 0.,\n",
              "       1., 0., 0., 0., 0., 0., 1., 1., 1., 0., 0., 1., 1., 1., 1., 0., 1.,\n",
              "       1., 1., 1., 1., 0., 0., 0., 1., 1., 1., 1., 0., 0., 0., 1., 1., 1.,\n",
              "       1., 1., 0., 0., 1., 1., 1., 1., 0., 0., 0., 1., 1., 1., 0., 0., 0.,\n",
              "       0., 0., 1., 1., 0., 0., 0., 0., 0., 0., 1., 0., 0., 0., 0., 0., 1.,\n",
              "       1., 1., 0., 0., 1., 1., 1., 1., 0., 0., 0., 0., 0., 0., 0., 0., 0.,\n",
              "       0., 0., 0., 1., 0., 0., 0., 0., 0., 0., 0., 1., 1., 1., 0., 0., 1.,\n",
              "       0., 1., 1., 1., 0., 1., 1., 1., 0., 1., 1., 0., 0., 1., 1., 0., 0.,\n",
              "       0., 1., 0., 0., 0., 0., 1., 0., 1., 1., 1., 0., 0., 0., 0., 1., 0.,\n",
              "       1., 0., 0., 1., 0., 0., 1., 1., 1., 1., 1., 1., 1., 0., 0., 0., 0.,\n",
              "       0., 0., 0., 0., 1., 1., 1., 0., 0., 0., 0., 0., 1., 0., 1., 0., 0.,\n",
              "       1., 0., 0., 0., 1., 0., 0., 0., 1., 0., 0., 1., 0., 1., 0., 0., 1.,\n",
              "       1., 0., 0., 0., 0., 1., 0., 0., 1., 0., 1., 0., 0., 0., 1., 0., 0.,\n",
              "       0., 1., 0., 0., 0., 1., 0., 0., 0., 0., 0., 1., 0., 1., 0., 0., 0.,\n",
              "       0., 0., 0., 1., 1., 1., 0., 0., 1., 1., 0., 0., 0., 0., 0., 1., 0.])"
            ]
          },
          "execution_count": 27,
          "metadata": {},
          "output_type": "execute_result"
        }
      ],
      "source": [
        "H_labels = show_clusters(H_test.T)\n",
        "H_labels = H_labels[:, 0]\n",
        "H_labels"
      ]
    },
    {
      "cell_type": "markdown",
      "metadata": {
        "id": "ugX_dkPd2-8X"
      },
      "source": [
        "**Question 4**: Calculez les indices externes (la pureté et l’entropie pour la matrice de partition H_test). Pour cela, on utilise les commande purity et entropy."
      ]
    },
    {
      "cell_type": "code",
      "execution_count": 28,
      "metadata": {
        "colab": {
          "base_uri": "https://localhost:8080/"
        },
        "id": "3ljpsrFC25gj",
        "outputId": "d70668b2-97bc-475d-f874-55c578b49c57"
      },
      "outputs": [
        {
          "name": "stdout",
          "output_type": "stream",
          "text": [
            "La pureté est : 0.5845588235294118\n",
            "L'entropie est : 0.6733086769780607\n"
          ]
        }
      ],
      "source": [
        "# Calcule de pureté\n",
        "purete_H_test = metrics.accuracy_score(H_labels,bank_test_labels)\n",
        "print(\"La pureté est :\", purete_H_test)\n",
        "\n",
        "# Calcule de l'entropy\n",
        "entropy_H_test = metrics.cluster.entropy(H_labels)\n",
        "print(\"L'entropie est :\", entropy_H_test)"
      ]
    },
    {
      "cell_type": "markdown",
      "metadata": {
        "id": "nb9g5Iqn4IuW"
      },
      "source": [
        "**Question 5**: Calculez les indices internes (l’indice DB de Davies et Bouldin, l’indice CH de Calinsky et Harabsz, l’indice KL de Krzanowski et Lai et l’indice de Dunn) pour la matrice de partition H_test. Pour cela, on utilise la commande valid internal deviation."
      ]
    },
    {
      "cell_type": "code",
      "execution_count": 29,
      "metadata": {
        "colab": {
          "base_uri": "https://localhost:8080/"
        },
        "id": "4oTf6u3Q3vrq",
        "outputId": "ed33a50d-2af6-41e1-cbdd-6ae36147364c"
      },
      "outputs": [
        {
          "name": "stdout",
          "output_type": "stream",
          "text": [
            "L'ndice de Davies et Bouldin : 0.9287248950872148\n",
            "L'ndice de Calinsky et Harabsz : 260.7992688977171\n"
          ]
        }
      ],
      "source": [
        "davies_bouldin_score_NMF  = metrics.cluster.davies_bouldin_score(bank_test,H_labels)\n",
        "print(\"L'ndice de Davies et Bouldin :\", davies_bouldin_score_NMF)\n",
        "\n",
        "calinski_harabasz_score_NMF = metrics.cluster.calinski_harabasz_score(bank_test,H_labels)\n",
        "print(\"L'ndice de Calinsky et Harabsz :\", calinski_harabasz_score_NMF)"
      ]
    },
    {
      "cell_type": "markdown",
      "metadata": {
        "id": "OuUz1ZKp34F3"
      },
      "source": [
        "**Question 6**:  Visualisez les données avec les étiquettes obtenues en utilisant la fonction PlotClusters."
      ]
    },
    {
      "cell_type": "code",
      "execution_count": 30,
      "metadata": {
        "colab": {
          "base_uri": "https://localhost:8080/",
          "height": 265
        },
        "id": "Tg2_BVas38ic",
        "outputId": "a2008dfd-f0f8-4fa1-bfa8-1c3c30d175e6"
      },
      "outputs": [
        {
          "data": {
            "image/png": "[encoded data removed]",
            "text/plain": [
              "<Figure size 432x288 with 1 Axes>"
            ]
          },
          "metadata": {
            "needs_background": "light"
          },
          "output_type": "display_data"
        }
      ],
      "source": [
        "bank_test_pca = PCA_object.fit_transform(bank_test)\n",
        "# bank_test_pca = PCA_object.transform(bank_test)\n",
        "plt.scatter(bank_test_pca[:,0],bank_test_pca[:,1],s=30, c= H_labels);"
      ]
    },
    {
      "cell_type": "markdown",
      "metadata": {
        "id": "w7BeMmADwwT6"
      },
      "source": [
        "## PARTIE 4"
      ]
    },
    {
      "cell_type": "markdown",
      "metadata": {
        "id": "_vNxFhXLyzwU"
      },
      "source": [
        "**Question**:  Appliquez Symmetric NMF à la matrice K_test."
      ]
    },
    {
      "cell_type": "code",
      "execution_count": 33,
      "metadata": {
        "id": "pC6QMk1Vy7po"
      },
      "outputs": [],
      "source": [
        "# Avant d'appliquer le NMF symétrique, il faut d'abord l'implémenter.\n",
        "def symetricNMF(X,r,niter=None):       \n",
        "    shapeX = len(X)\n",
        "    W = np.random.rand(shapeX, r)\n",
        "\n",
        "    for t in range(1,niter):\n",
        "        # Mise à jour\n",
        "        W = np.multiply(W, (0.5 + np.dot(0.5, (np.dot(X, W))) / (np.dot(np.dot(W, W.T), W))))\n",
        "    return W"
      ]
    },
    {
      "cell_type": "markdown",
      "metadata": {
        "id": "sMFfzjrk-Kxr"
      },
      "source": [
        "### σ = 1"
      ]
    },
    {
      "cell_type": "markdown",
      "metadata": {
        "id": "c8eP9_Us1WKz"
      },
      "source": [
        "**Question 1**: Calculez la matrice de Gram K_test en utilisant la commande kernelRBF avec σ = 1."
      ]
    },
    {
      "cell_type": "code",
      "execution_count": 35,
      "metadata": {
        "colab": {
          "base_uri": "https://localhost:8080/"
        },
        "id": "s5kU-3w51CkS",
        "outputId": "6d242f20-b72e-446a-e934-03c86fafccca"
      },
      "outputs": [
        {
          "data": {
            "text/plain": [
              "(272, 272)"
            ]
          },
          "execution_count": 35,
          "metadata": {},
          "output_type": "execute_result"
        }
      ],
      "source": [
        "from sklearn.metrics.pairwise import rbf_kernel\n",
        "K_test = rbf_kernel(bank_test, bank_test, 1)\n",
        "K_test.shape"
      ]
    },
    {
      "cell_type": "markdown",
      "metadata": {
        "id": "1lJVI4gu2Xv8"
      },
      "source": [
        "**Question 2**: Calculez les indices externes et internes pour la matrice de partition.\n"
      ]
    },
    {
      "cell_type": "code",
      "execution_count": 37,
      "metadata": {
        "colab": {
          "base_uri": "https://localhost:8080/"
        },
        "id": "uR-lDfUD2Pa-",
        "outputId": "b9be905b-b432-4262-fe05-d44d63dcfb9e"
      },
      "outputs": [
        {
          "data": {
            "text/plain": [
              "array([0., 1., 0., 0., 1., 1., 0., 0., 0., 1., 1., 0., 1., 1., 1., 1., 1.,\n",
              "       0., 1., 1., 0., 0., 1., 0., 0., 0., 1., 1., 1., 0., 0., 0., 0., 1.,\n",
              "       1., 1., 0., 1., 0., 1., 0., 1., 1., 0., 0., 0., 1., 0., 0., 1., 0.,\n",
              "       0., 1., 0., 1., 0., 1., 1., 1., 0., 0., 0., 0., 1., 1., 0., 1., 1.,\n",
              "       1., 0., 1., 0., 0., 0., 1., 1., 1., 1., 0., 0., 0., 1., 1., 1., 0.,\n",
              "       1., 0., 1., 0., 0., 1., 0., 1., 0., 1., 0., 0., 1., 1., 0., 1., 1.,\n",
              "       1., 1., 0., 1., 1., 0., 0., 1., 1., 0., 1., 0., 1., 1., 1., 0., 1.,\n",
              "       0., 0., 1., 0., 1., 1., 0., 0., 1., 0., 1., 0., 1., 0., 1., 0., 0.,\n",
              "       0., 1., 1., 1., 0., 1., 1., 0., 0., 0., 0., 1., 1., 0., 0., 1., 0.,\n",
              "       1., 1., 0., 0., 1., 0., 1., 0., 1., 0., 0., 0., 0., 1., 1., 1., 1.,\n",
              "       1., 0., 1., 1., 0., 0., 1., 1., 0., 0., 1., 0., 0., 0., 1., 1., 1.,\n",
              "       1., 1., 0., 0., 1., 1., 1., 1., 0., 0., 1., 1., 1., 0., 0., 0., 1.,\n",
              "       0., 0., 1., 1., 0., 1., 1., 1., 1., 0., 1., 1., 0., 1., 1., 1., 1.,\n",
              "       0., 1., 1., 1., 0., 1., 1., 0., 1., 1., 1., 0., 0., 1., 0., 0., 0.,\n",
              "       0., 0., 0., 0., 1., 1., 0., 0., 1., 1., 1., 1., 0., 1., 1., 0., 0.,\n",
              "       1., 1., 0., 1., 0., 1., 1., 1., 1., 0., 0., 0., 0., 1., 1., 0., 1.])"
            ]
          },
          "execution_count": 37,
          "metadata": {},
          "output_type": "execute_result"
        }
      ],
      "source": [
        "matSymetric = symetricNMF(K_test, 2, 1)\n",
        "matResult = show_clusters(matSymetric)\n",
        "matResult = matResult[:, 0]\n",
        "matResult"
      ]
    },
    {
      "cell_type": "code",
      "execution_count": 41,
      "metadata": {
        "colab": {
          "base_uri": "https://localhost:8080/"
        },
        "id": "Pi_NLDC1255X",
        "outputId": "58170a23-dd6f-451d-d533-993f8ffdb549"
      },
      "outputs": [
        {
          "name": "stdout",
          "output_type": "stream",
          "text": [
            "La pureté est : 0.48161764705882354\n",
            "L'entropie est : 0.6909559169164965\n"
          ]
        }
      ],
      "source": [
        "# Calcule des indices internes \n",
        "# 1. Calcule de Pureté\n",
        "purete_symetricNMF =  metrics.accuracy_score(matResult, bank_test_labels)\n",
        "print(\"La pureté est :\", purete_symetricNMF)\n",
        "\n",
        "# 2. Calcule de Entropy\n",
        "entropy_symetricNMF = metrics.cluster.entropy(matResult)\n",
        "print(\"L'entropie est :\", entropy_symetricNMF)"
      ]
    },
    {
      "cell_type": "code",
      "execution_count": 45,
      "metadata": {
        "colab": {
          "base_uri": "https://localhost:8080/"
        },
        "id": "0E2zTJs73aro",
        "outputId": "21096caf-c70e-41b1-9777-acac2d4c2aa8"
      },
      "outputs": [
        {
          "name": "stdout",
          "output_type": "stream",
          "text": [
            "L'indice de Davies et Bouldin est : 19.966591340139153\n",
            "L'indice de CH de Calinsky et Harabsz est : 0.5378894383059317\n"
          ]
        }
      ],
      "source": [
        "# Calcule des indices externes\n",
        "# 1. Indice de DB de Davies et Bouldin\n",
        "davies_bouldin_score_symetricNMF  = metrics.cluster.davies_bouldin_score(bank_test, matResult)\n",
        "print(\"L'indice de Davies et Bouldin est :\", davies_bouldin_score_symetricNMF)\n",
        "\n",
        "# 2. Indice de CH de Calinsky et Harabsz\n",
        "calinski_harabasz_score_symetricNMF  = metrics.cluster.calinski_harabasz_score(bank_test, matResult)\n",
        "print(\"L'indice de CH de Calinsky et Harabsz est :\", calinski_harabasz_score_symetricNMF)"
      ]
    },
    {
      "cell_type": "markdown",
      "metadata": {
        "id": "nk7mKp895oEj"
      },
      "source": [
        "**Question 3**: Visualisez les données avec les étiquettes obtenues en utilisant la fonction PlotClusters?"
      ]
    },
    {
      "cell_type": "code",
      "execution_count": 47,
      "metadata": {
        "colab": {
          "base_uri": "https://localhost:8080/",
          "height": 265
        },
        "id": "vCkeNsd05AQs",
        "outputId": "88a0d5f3-1bff-478f-cf59-184438eb19fd"
      },
      "outputs": [
        {
          "data": {
            "image/png": "[encoded data removed]",
            "text/plain": [
              "<Figure size 432x288 with 1 Axes>"
            ]
          },
          "metadata": {
            "needs_background": "light"
          },
          "output_type": "display_data"
        }
      ],
      "source": [
        "plt.scatter(bank_test[:, 0], bank_test[:, 1], s = 20, c = matResult);"
      ]
    },
    {
      "cell_type": "markdown",
      "metadata": {
        "id": "uOmGTKQp-X5M"
      },
      "source": [
        "### σ = 2"
      ]
    },
    {
      "cell_type": "markdown",
      "metadata": {
        "id": "YFEjy8C-7F3S"
      },
      "source": [
        "**Question 1:** Calculez la matrice de Gram K_test en utilisant la commande kernelRBF avec σ = 2."
      ]
    },
    {
      "cell_type": "code",
      "execution_count": 48,
      "metadata": {
        "colab": {
          "base_uri": "https://localhost:8080/"
        },
        "id": "hCSRA8wg6JIC",
        "outputId": "0ed97efa-486a-47c2-acc7-22bde2868236"
      },
      "outputs": [
        {
          "data": {
            "text/plain": [
              "(272, 272)"
            ]
          },
          "execution_count": 48,
          "metadata": {},
          "output_type": "execute_result"
        }
      ],
      "source": [
        "K_test = rbf_kernel(bank_test, bank_test, 2)\n",
        "K_test.shape"
      ]
    },
    {
      "cell_type": "markdown",
      "metadata": {
        "id": "-pFEAOiP7uDD"
      },
      "source": [
        "**Question 2**: Calculez les indices externes et internes pour la matrice de partition."
      ]
    },
    {
      "cell_type": "code",
      "execution_count": 57,
      "metadata": {
        "colab": {
          "base_uri": "https://localhost:8080/"
        },
        "id": "f1S5JvFn79tk",
        "outputId": "8f6ec942-7a87-4c9c-c20e-5755074686ad"
      },
      "outputs": [
        {
          "data": {
            "text/plain": [
              "array([0., 1., 1., 1., 1., 1., 0., 0., 1., 0., 0., 1., 1., 1., 1., 1., 0.,\n",
              "       0., 1., 0., 1., 0., 1., 0., 1., 0., 0., 1., 1., 0., 1., 1., 1., 1.,\n",
              "       0., 1., 1., 0., 1., 1., 0., 1., 1., 0., 0., 1., 1., 1., 0., 1., 1.,\n",
              "       1., 1., 1., 1., 0., 0., 1., 1., 1., 1., 1., 1., 0., 0., 0., 1., 1.,\n",
              "       1., 1., 0., 1., 1., 0., 1., 1., 0., 0., 0., 0., 0., 0., 1., 0., 0.,\n",
              "       0., 1., 0., 0., 0., 0., 0., 1., 0., 0., 1., 0., 1., 0., 1., 0., 1.,\n",
              "       0., 0., 0., 0., 0., 1., 1., 1., 1., 1., 1., 0., 0., 0., 0., 1., 1.,\n",
              "       0., 1., 0., 1., 0., 1., 0., 1., 0., 0., 1., 0., 0., 1., 0., 1., 1.,\n",
              "       1., 1., 1., 0., 0., 1., 1., 1., 1., 1., 0., 1., 1., 0., 1., 1., 1.,\n",
              "       1., 0., 1., 1., 1., 1., 0., 0., 1., 1., 1., 1., 0., 1., 0., 1., 1.,\n",
              "       0., 1., 1., 0., 1., 1., 0., 0., 0., 0., 0., 1., 0., 1., 1., 1., 1.,\n",
              "       0., 1., 0., 1., 1., 0., 0., 1., 0., 0., 1., 0., 0., 1., 1., 0., 1.,\n",
              "       0., 1., 0., 0., 1., 0., 1., 1., 1., 1., 1., 0., 0., 1., 0., 0., 1.,\n",
              "       1., 1., 0., 0., 0., 0., 0., 1., 1., 1., 0., 0., 1., 0., 0., 0., 0.,\n",
              "       0., 1., 0., 1., 0., 1., 0., 0., 1., 0., 0., 1., 0., 1., 0., 1., 1.,\n",
              "       1., 1., 0., 0., 1., 1., 1., 1., 1., 0., 0., 1., 1., 1., 1., 0., 1.])"
            ]
          },
          "execution_count": 57,
          "metadata": {},
          "output_type": "execute_result"
        }
      ],
      "source": [
        "matSymetric = symetricNMF(K_test, 2, 1)\n",
        "matResult = show_clusters(matSymetric)\n",
        "matResult = matResult[:, 0]\n",
        "matResult"
      ]
    },
    {
      "cell_type": "code",
      "execution_count": 60,
      "metadata": {
        "colab": {
          "base_uri": "https://localhost:8080/"
        },
        "id": "xgYuvT6C7pmg",
        "outputId": "f5bef845-2087-4e5d-b1bc-bc39841ed057"
      },
      "outputs": [
        {
          "name": "stdout",
          "output_type": "stream",
          "text": [
            "La pureté est : 0.4852941176470588\n",
            "L'entropie est : 0.6878393399287344\n"
          ]
        }
      ],
      "source": [
        "# Calcule des indices internes \n",
        "# 1. Calcule de Pureté\n",
        "purete_symetricNMF =  metrics.accuracy_score(matResult, bank_test_labels)\n",
        "print(\"La pureté est :\", purete_symetricNMF)\n",
        "\n",
        "# 2. Calcule de Entropy\n",
        "entropy_symetricNMF = metrics.cluster.entropy(matResult)\n",
        "print(\"L'entropie est :\", entropy_symetricNMF)"
      ]
    },
    {
      "cell_type": "code",
      "execution_count": 61,
      "metadata": {
        "colab": {
          "base_uri": "https://localhost:8080/"
        },
        "id": "4k4wa8R97zMH",
        "outputId": "010760cf-b5d9-4cb2-b856-e9a3583a6625"
      },
      "outputs": [
        {
          "name": "stdout",
          "output_type": "stream",
          "text": [
            "L'indice de Davies et Bouldin est : 6.385450482253085\n",
            "L'indice de CH de Calinsky et Harabsz est : 5.245489022848312\n"
          ]
        }
      ],
      "source": [
        "# Calcule des indices externes\n",
        "# 1. Indice de DB de Davies et Bouldin\n",
        "davies_bouldin_score_symetricNMF  = metrics.cluster.davies_bouldin_score(bank_test, matResult)\n",
        "print(\"L'indice de Davies et Bouldin est :\", davies_bouldin_score_symetricNMF)\n",
        "\n",
        "# 2. Indice de CH de Calinsky et Harabsz\n",
        "calinski_harabasz_score_symetricNMF  = metrics.cluster.calinski_harabasz_score(bank_test, matResult)\n",
        "print(\"L'indice de CH de Calinsky et Harabsz est :\", calinski_harabasz_score_symetricNMF)"
      ]
    },
    {
      "cell_type": "markdown",
      "metadata": {
        "id": "Vdoo17-g9C9b"
      },
      "source": [
        "**Question 3**: Visualisez les données avec les étiquettes obtenues en utilisant la fonction PlotClusters?"
      ]
    },
    {
      "cell_type": "code",
      "execution_count": 63,
      "metadata": {
        "colab": {
          "base_uri": "https://localhost:8080/",
          "height": 265
        },
        "id": "8nOHdYmw8y9A",
        "outputId": "d9b16c39-147d-4a50-fa00-3b8666de693a"
      },
      "outputs": [
        {
          "data": {
            "image/png": "[encoded data removed]",
            "text/plain": [
              "<Figure size 432x288 with 1 Axes>"
            ]
          },
          "metadata": {
            "needs_background": "light"
          },
          "output_type": "display_data"
        }
      ],
      "source": [
        "plt.scatter(bank_test[:, 0], bank_test[:, 1], s = 20, c = matResult);"
      ]
    },
    {
      "cell_type": "markdown",
      "metadata": {
        "id": "230DePrW-yyb"
      },
      "source": [
        "### paramètres [1, 0, 2]"
      ]
    },
    {
      "cell_type": "markdown",
      "metadata": {
        "id": "MbGYj_NN_qEb"
      },
      "source": [
        "**Question 1:** Calculez la matrice de Gram K_test en utilisant la commande kernelRBF avec les paramètres [1, 0, 2]."
      ]
    },
    {
      "cell_type": "code",
      "execution_count": 64,
      "metadata": {
        "colab": {
          "base_uri": "https://localhost:8080/"
        },
        "id": "QxanUUTl-6e7",
        "outputId": "79b67942-fe57-46c5-f16a-efbf9aef48b3"
      },
      "outputs": [
        {
          "data": {
            "text/plain": [
              "(272, 272)"
            ]
          },
          "execution_count": 64,
          "metadata": {},
          "output_type": "execute_result"
        }
      ],
      "source": [
        "from sklearn.metrics.pairwise import polynomial_kernel\n",
        "K_test = polynomial_kernel(bank_test, bank_test, 1, 0, 2)\n",
        "K_test.shape"
      ]
    },
    {
      "cell_type": "markdown",
      "metadata": {
        "id": "YzCQzi_6AaMz"
      },
      "source": [
        "**Question 2**: Calculez les indices externes et internes pour la matrice de partition."
      ]
    },
    {
      "cell_type": "code",
      "execution_count": 65,
      "metadata": {
        "colab": {
          "base_uri": "https://localhost:8080/"
        },
        "id": "moEe_CGWAQfu",
        "outputId": "b45b9b8e-4e61-44c0-b1db-cf35d082a5cd"
      },
      "outputs": [
        {
          "data": {
            "text/plain": [
              "array([1., 0., 0., 0., 1., 0., 0., 1., 0., 1., 0., 1., 0., 1., 1., 0., 1.,\n",
              "       1., 0., 0., 0., 1., 0., 0., 1., 0., 1., 0., 0., 1., 1., 1., 0., 0.,\n",
              "       0., 1., 1., 0., 1., 1., 1., 1., 0., 0., 0., 0., 1., 0., 1., 0., 0.,\n",
              "       0., 1., 1., 1., 0., 1., 0., 0., 0., 1., 0., 0., 1., 0., 0., 1., 1.,\n",
              "       1., 1., 1., 1., 1., 1., 1., 0., 0., 1., 1., 1., 0., 0., 1., 1., 0.,\n",
              "       0., 0., 0., 0., 1., 1., 1., 0., 1., 0., 1., 1., 1., 1., 0., 1., 0.,\n",
              "       1., 1., 1., 1., 0., 1., 1., 0., 0., 0., 1., 1., 0., 1., 1., 0., 0.,\n",
              "       0., 0., 0., 0., 0., 0., 0., 0., 1., 1., 0., 1., 0., 1., 1., 1., 1.,\n",
              "       0., 0., 0., 1., 1., 0., 1., 1., 1., 0., 0., 0., 1., 0., 0., 0., 0.,\n",
              "       0., 1., 1., 1., 0., 1., 1., 1., 1., 1., 1., 0., 1., 1., 1., 1., 0.,\n",
              "       1., 0., 1., 0., 0., 1., 1., 0., 1., 0., 0., 0., 0., 1., 1., 0., 1.,\n",
              "       0., 1., 1., 1., 1., 1., 1., 1., 1., 1., 0., 1., 1., 0., 0., 0., 1.,\n",
              "       0., 0., 1., 1., 0., 0., 0., 0., 1., 0., 1., 1., 0., 0., 1., 0., 1.,\n",
              "       0., 0., 0., 1., 1., 0., 1., 1., 0., 0., 1., 1., 1., 1., 1., 1., 1.,\n",
              "       1., 0., 1., 1., 0., 0., 1., 1., 1., 1., 0., 0., 0., 1., 1., 0., 1.,\n",
              "       0., 0., 0., 0., 0., 1., 1., 1., 0., 1., 0., 1., 0., 1., 0., 0., 0.])"
            ]
          },
          "execution_count": 65,
          "metadata": {},
          "output_type": "execute_result"
        }
      ],
      "source": [
        "matSymetric = symetricNMF(K_test, 2, 1)\n",
        "matResult = show_clusters(matSymetric)\n",
        "matResult = matResult[:, 0]\n",
        "matResult"
      ]
    },
    {
      "cell_type": "code",
      "execution_count": 66,
      "metadata": {
        "colab": {
          "base_uri": "https://localhost:8080/"
        },
        "id": "rgHR5Ps5Aop5",
        "outputId": "8eefef26-b23e-4c57-e64d-4343e8e5390f"
      },
      "outputs": [
        {
          "name": "stdout",
          "output_type": "stream",
          "text": [
            "La pureté est : 0.5\n",
            "L'entropie est : 0.692173681227598\n"
          ]
        }
      ],
      "source": [
        "# Calcule des indices internes \n",
        "# 1. Calcule de Pureté\n",
        "purete_symetricNMF =  metrics.accuracy_score(matResult, bank_test_labels)\n",
        "print(\"La pureté est :\", purete_symetricNMF)\n",
        "\n",
        "# 2. Calcule de Entropy\n",
        "entropy_symetricNMF = metrics.cluster.entropy(matResult)\n",
        "print(\"L'entropie est :\", entropy_symetricNMF)"
      ]
    },
    {
      "cell_type": "code",
      "execution_count": 67,
      "metadata": {
        "colab": {
          "base_uri": "https://localhost:8080/"
        },
        "id": "xcRfcXiZAvS8",
        "outputId": "8ddd9e5c-7917-4b4d-ea13-fdea0fbee805"
      },
      "outputs": [
        {
          "name": "stdout",
          "output_type": "stream",
          "text": [
            "L'indice de Davies et Bouldin est : 46.08048141731228\n",
            "L'indice de CH de Calinsky et Harabsz est : 0.10089757624204039\n"
          ]
        }
      ],
      "source": [
        "# Calcule des indices externes\n",
        "# 1. Indice de DB de Davies et Bouldin\n",
        "davies_bouldin_score_symetricNMF  = metrics.cluster.davies_bouldin_score(bank_test, matResult)\n",
        "print(\"L'indice de Davies et Bouldin est :\", davies_bouldin_score_symetricNMF)\n",
        "\n",
        "# 2. Indice de CH de Calinsky et Harabsz\n",
        "calinski_harabasz_score_symetricNMF  = metrics.cluster.calinski_harabasz_score(bank_test, matResult)\n",
        "print(\"L'indice de CH de Calinsky et Harabsz est :\", calinski_harabasz_score_symetricNMF)"
      ]
    },
    {
      "cell_type": "markdown",
      "metadata": {
        "id": "zpARzg8AA687"
      },
      "source": [
        "**Question 3**: Visualisez les données avec les étiquettes obtenues en utilisant la fonction PlotClusters?"
      ]
    },
    {
      "cell_type": "code",
      "execution_count": 68,
      "metadata": {
        "colab": {
          "base_uri": "https://localhost:8080/",
          "height": 265
        },
        "id": "LKteF6lTAyCl",
        "outputId": "92db667b-9100-4098-eee7-9dbae7a11746"
      },
      "outputs": [
        {
          "data": {
            "image/png": "[encoded data removed]",
            "text/plain": [
              "<Figure size 432x288 with 1 Axes>"
            ]
          },
          "metadata": {
            "needs_background": "light"
          },
          "output_type": "display_data"
        }
      ],
      "source": [
        "plt.scatter(bank_test[:, 0], bank_test[:, 1], s = 20, c = matResult);"
      ]
    },
    {
      "cell_type": "code",
      "execution_count": null,
      "metadata": {
        "id": "QokfbtbvBI6j"
      },
      "outputs": [],
      "source": []
    }
  ],
  "metadata": {
    "colab": {
      "collapsed_sections": [
        "Fv3DxnksP-OJ",
        "--FQXElQRKZy"
      ],
      "provenance": []
    },
    "kernelspec": {
      "display_name": "Python 3",
      "name": "python3"
    },
    "language_info": {
      "name": "python"
    }
  },
  "nbformat": 4,
  "nbformat_minor": 0
}
